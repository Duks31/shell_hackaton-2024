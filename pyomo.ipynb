{
 "cells": [
  {
   "cell_type": "code",
   "execution_count": 9,
   "metadata": {},
   "outputs": [],
   "source": [
    "from pyomo.environ import ConcreteModel, Var, Objective, Constraint, SolverFactory, NonNegativeReals"
   ]
  },
  {
   "cell_type": "code",
   "execution_count": 15,
   "metadata": {},
   "outputs": [],
   "source": [
    "# create a model\n",
    "model = ConcreteModel()"
   ]
  },
  {
   "cell_type": "code",
   "execution_count": 16,
   "metadata": {},
   "outputs": [],
   "source": [
    "# define the decision variables\n",
    " \n",
    "model.x1 = Var(within = NonNegativeReals)\n",
    "model.x2 = Var(within = NonNegativeReals)"
   ]
  },
  {
   "cell_type": "code",
   "execution_count": 17,
   "metadata": {},
   "outputs": [],
   "source": [
    "# Define the objective function\n",
    "\n",
    "model.obj = Objective(expr = 3 * model.x1 + 2 * model.x2, sense = 1)"
   ]
  },
  {
   "cell_type": "code",
   "execution_count": 20,
   "metadata": {},
   "outputs": [
    {
     "name": "stdout",
     "output_type": "stream",
     "text": [
      "WARNING: Implicitly replacing the Component attribute con1 (type=<class\n",
      "'pyomo.core.base.constraint.ScalarConstraint'>) on block unknown with a new\n",
      "Component (type=<class\n",
      "'pyomo.core.base.constraint.AbstractScalarConstraint'>). This is usually\n",
      "indicative of a modelling error. To avoid this warning, use\n",
      "block.del_component() and block.add_component().\n"
     ]
    }
   ],
   "source": [
    "model.con1 = Constraint(expr = model.x1 + model.x2 <= 4)\n",
    "model.con2 = Constraint(expr = 2 * model.x1 + model.x2 <= 5)"
   ]
  },
  {
   "cell_type": "code",
   "execution_count": 21,
   "metadata": {},
   "outputs": [],
   "source": [
    "solver = SolverFactory(\"glpk\")    "
   ]
  },
  {
   "cell_type": "code",
   "execution_count": 22,
   "metadata": {},
   "outputs": [],
   "source": [
    "result = solver.solve(model)\n"
   ]
  },
  {
   "cell_type": "code",
   "execution_count": 23,
   "metadata": {},
   "outputs": [
    {
     "name": "stdout",
     "output_type": "stream",
     "text": [
      "x1 = 0.0\n",
      "x2 = 0.0\n",
      "Objective = 0.0\n"
     ]
    }
   ],
   "source": [
    "print(f\"x1 = {model.x1()}\")\n",
    "print(f\"x2 = {model.x2()}\")\n",
    "print(f\"Objective = {model.obj()}\")"
   ]
  },
  {
   "cell_type": "code",
   "execution_count": 1,
   "metadata": {},
   "outputs": [],
   "source": [
    "import pyomo.environ as pyo\n",
    "\n",
    "model = pyo.ConcreteModel()\n",
    "\n",
    "model.x = pyo.Var([1,2], domain=pyo.NonNegativeReals)\n",
    "\n",
    "model.obj = pyo.Objective(expr = 3*model.x[1] + 3*model.x[2])\n",
    "\n",
    "model.Constraint1 = pyo.Constraint(expr = 3 * model.x[1] + 4*model.x[2] >= 1)"
   ]
  },
  {
   "cell_type": "code",
   "execution_count": 2,
   "metadata": {},
   "outputs": [
    {
     "data": {
      "text/plain": [
       "{'Problem': [{'Name': 'unknown', 'Lower bound': 0.75, 'Upper bound': 0.75, 'Number of objectives': 1, 'Number of constraints': 1, 'Number of variables': 2, 'Number of nonzeros': 2, 'Sense': 'minimize'}], 'Solver': [{'Status': 'ok', 'Termination condition': 'optimal', 'Statistics': {'Branch and bound': {'Number of bounded subproblems': 0, 'Number of created subproblems': 0}}, 'Error rc': 0, 'Time': 0.06301331520080566}], 'Solution': [OrderedDict({'number of solutions': 0, 'number of solutions displayed': 0})]}"
      ]
     },
     "execution_count": 2,
     "metadata": {},
     "output_type": "execute_result"
    }
   ],
   "source": [
    "opt = pyo.SolverFactory('glpk')\n",
    "opt.solve(model)"
   ]
  }
 ],
 "metadata": {
  "kernelspec": {
   "display_name": "shell",
   "language": "python",
   "name": "python3"
  },
  "language_info": {
   "codemirror_mode": {
    "name": "ipython",
    "version": 3
   },
   "file_extension": ".py",
   "mimetype": "text/x-python",
   "name": "python",
   "nbconvert_exporter": "python",
   "pygments_lexer": "ipython3",
   "version": "3.12.3"
  }
 },
 "nbformat": 4,
 "nbformat_minor": 2
}
