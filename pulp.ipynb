{
 "cells": [
  {
   "cell_type": "code",
   "execution_count": 5,
   "metadata": {},
   "outputs": [],
   "source": [
    "from pulp import *"
   ]
  },
  {
   "cell_type": "markdown",
   "metadata": {},
   "source": [
    "Understanding Pulp by dolveing a diet problem"
   ]
  },
  {
   "cell_type": "code",
   "execution_count": 10,
   "metadata": {},
   "outputs": [],
   "source": [
    "# model definition\n",
    "\n",
    "model = LpProblem(\"Diet_solution\", LpMinimize)"
   ]
  },
  {
   "cell_type": "code",
   "execution_count": 11,
   "metadata": {},
   "outputs": [],
   "source": [
    "# Decision variables (Amount of food in grams) \n",
    "\n",
    "x1 = LpVariable('Chicken', lowBound=0)\n",
    "x2 = LpVariable('Fish', lowBound=0)"
   ]
  },
  {
   "cell_type": "code",
   "execution_count": 12,
   "metadata": {},
   "outputs": [],
   "source": [
    "# objective function\n",
    "model += 3 * x1 + 2 * x2"
   ]
  },
  {
   "cell_type": "code",
   "execution_count": 13,
   "metadata": {},
   "outputs": [],
   "source": [
    "# meeting proteins and carb requirement\n",
    "model += 40 * x1 + 30 * x2 >= 150 #Minimum protein (grams)\n",
    "model += 2 * x1 + 5 * x2 >= 200 #Minimum carbs requriment (grams)"
   ]
  },
  {
   "cell_type": "code",
   "execution_count": 14,
   "metadata": {},
   "outputs": [
    {
     "data": {
      "text/plain": [
       "1"
      ]
     },
     "execution_count": 14,
     "metadata": {},
     "output_type": "execute_result"
    }
   ],
   "source": [
    "model.solve()"
   ]
  },
  {
   "cell_type": "code",
   "execution_count": 17,
   "metadata": {},
   "outputs": [
    {
     "name": "stdout",
     "output_type": "stream",
     "text": [
      "Chicken: 0.0 grams\n",
      "Fish: 40.00 grams\n",
      "Minimum Cost: 80.00\n"
     ]
    }
   ],
   "source": [
    "print(f\"Chicken: {x1.value()} grams\")\n",
    "print(f\"Fish: {x2.value():.2f} grams\")\n",
    "\n",
    "print(f\"Minimum Cost: {model.objective.value():.2f}\")"
   ]
  },
  {
   "cell_type": "markdown",
   "metadata": {},
   "source": [
    "In this solution the optimal diet is to buy only fish (40grams), because it fulfills bothe the protein and the carb requirement at the lowest cost (80 units since the model objective function was 2 units of Fish)"
   ]
  },
  {
   "cell_type": "markdown",
   "metadata": {},
   "source": [
    "Understanding pulp"
   ]
  },
  {
   "cell_type": "markdown",
   "metadata": {},
   "source": [
    "A bakery needs to decide how much of each type of bread (white, wheat, and rye) to bake daily. They have limited capacity for flour (100kgs) and oven space (8 hours). Each type of bread uses different amounts of flour and baking time per loaf:\n",
    "\n",
    "* White bread: 0.5 kg flour, 1 hour baking time\n",
    "* Wheat bread: 0.7 kg flour, 1.2 hours baking time\n",
    "* Rye bread: 0.8 kg flour, 0.8 hours baking time\n",
    "\n",
    "The bakery wants to maximize their daily profit. Their profit per loaf is:\n",
    "\n",
    "* White bread: 2 dollars\n",
    "* Wheat bread: 3 dollars\n",
    "* Rye bread: 1.5 dollars"
   ]
  },
  {
   "cell_type": "code",
   "execution_count": 8,
   "metadata": {},
   "outputs": [],
   "source": [
    "from pulp import *"
   ]
  },
  {
   "cell_type": "code",
   "execution_count": 9,
   "metadata": {},
   "outputs": [],
   "source": [
    "model = LpProblem(\"Backery_Solution\", LpMaximize)"
   ]
  },
  {
   "cell_type": "code",
   "execution_count": 10,
   "metadata": {},
   "outputs": [],
   "source": [
    "x2 = LpVariable('White Bread', lowBound=0, cat='integer')\n",
    "x1 = LpVariable('Wheat Bread', lowBound=0, cat='integer')\n",
    "x3 = LpVariable('Rye Bread', lowBound=0, cat='integer')"
   ]
  },
  {
   "cell_type": "code",
   "execution_count": 11,
   "metadata": {},
   "outputs": [
    {
     "data": {
      "text/plain": [
       "1"
      ]
     },
     "execution_count": 11,
     "metadata": {},
     "output_type": "execute_result"
    }
   ],
   "source": [
    "# Objective function\n",
    "\n",
    "model += 2 * x1 + 3 * x2 + 1.5 * x3\n",
    "\n",
    "# Constraints\n",
    "model += 0.5 * x1 + 0.7 * x2 + 0.8 * x3 <= 100 # flour constraints\n",
    "model += 1 * x1 + 1.2 * x2 + 0.8 * x3 <= 8 # time constraints\n",
    "\n",
    "model.solve()"
   ]
  },
  {
   "cell_type": "code",
   "execution_count": 12,
   "metadata": {},
   "outputs": [
    {
     "name": "stdout",
     "output_type": "stream",
     "text": [
      "Wheat Bread: 0.00 units\n",
      "White Bread: 6.67 units\n",
      "Rye Bread: 0.00 units\n",
      "Maximum Profit: 20.00\n"
     ]
    }
   ],
   "source": [
    "print(f\"Wheat Bread: {x1.value():.2f} units\")\n",
    "print(f\"White Bread: {x2.value():.2f} units\")\n",
    "print(f\"Rye Bread: {x3.value():.2f} units\")\n",
    "\n",
    "print(f\"Maximum Profit: {model.objective.value():.2f}\")"
   ]
  },
  {
   "cell_type": "markdown",
   "metadata": {},
   "source": [
    "Conclusion the bakery should bake aprox. 7 loafs of White bread, taking into account the constraints of the problem."
   ]
  }
 ],
 "metadata": {
  "kernelspec": {
   "display_name": "shell",
   "language": "python",
   "name": "python3"
  },
  "language_info": {
   "codemirror_mode": {
    "name": "ipython",
    "version": 3
   },
   "file_extension": ".py",
   "mimetype": "text/x-python",
   "name": "python",
   "nbconvert_exporter": "python",
   "pygments_lexer": "ipython3",
   "version": "3.12.3"
  }
 },
 "nbformat": 4,
 "nbformat_minor": 2
}
