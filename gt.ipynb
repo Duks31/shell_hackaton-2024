{
 "cells": [
  {
   "cell_type": "code",
   "execution_count": 1,
   "metadata": {},
   "outputs": [],
   "source": [
    "import pandas as pd\n",
    "from pulp import LpProblem, LpVariable, lpSum, LpMinimize, lpSum"
   ]
  },
  {
   "cell_type": "code",
   "execution_count": 2,
   "metadata": {},
   "outputs": [],
   "source": [
    "# datasets \n",
    "demand = pd.read_csv(\"dataset/demand.csv\")\n",
    "vehicles = pd.read_csv(\"dataset/vehicles.csv\")\n",
    "vehicles_fuels = pd.read_csv(\"dataset/vehicles_fuels.csv\")\n",
    "fuels = pd.read_csv(\"dataset/fuels.csv\")\n",
    "carbon_emissions = pd.read_csv(\"dataset/carbon_emissions.csv\")"
   ]
  },
  {
   "cell_type": "code",
   "execution_count": 3,
   "metadata": {},
   "outputs": [],
   "source": [
    "vehicles = vehicles.merge(vehicles_fuels, on = \"ID\")"
   ]
  },
  {
   "cell_type": "code",
   "execution_count": 4,
   "metadata": {},
   "outputs": [
    {
     "name": "stdout",
     "output_type": "stream",
     "text": [
      "<class 'pandas.core.frame.DataFrame'>\n",
      "RangeIndex: 320 entries, 0 to 319\n",
      "Data columns (total 9 columns):\n",
      " #   Column                      Non-Null Count  Dtype  \n",
      "---  ------                      --------------  -----  \n",
      " 0   ID                          320 non-null    object \n",
      " 1   Vehicle                     320 non-null    object \n",
      " 2   Size                        320 non-null    object \n",
      " 3   Year                        320 non-null    int64  \n",
      " 4   Cost ($)                    320 non-null    int64  \n",
      " 5   Yearly range (km)           320 non-null    int64  \n",
      " 6   Distance                    320 non-null    object \n",
      " 7   Fuel                        320 non-null    object \n",
      " 8   Consumption (unit_fuel/km)  320 non-null    float64\n",
      "dtypes: float64(1), int64(3), object(5)\n",
      "memory usage: 22.6+ KB\n"
     ]
    }
   ],
   "source": [
    "vehicles.info()"
   ]
  },
  {
   "cell_type": "code",
   "execution_count": 5,
   "metadata": {},
   "outputs": [],
   "source": [
    "model = LpProblem(name = \"Fleet_Decarbonization\", sense = LpMinimize)"
   ]
  },
  {
   "cell_type": "code",
   "execution_count": 6,
   "metadata": {},
   "outputs": [],
   "source": [
    "# Varibles \n",
    "years = range(2023, 2039)\n",
    "vehicles_ids = vehicles[\"ID\"].unique()\n",
    "N_vyr = LpVariable.dicts(\"Numvehicles\", (vehicles_ids, years), lowBound = 0, cat = \"Integer\")\n",
    "# Define decision variables for selling vehicles\n",
    "S_vyr = LpVariable.dicts(\"SellVehicles\", (vehicles_ids, years), lowBound=0, cat='Integer')\n",
    "\n",
    "\n"
   ]
  },
  {
   "cell_type": "code",
   "execution_count": 7,
   "metadata": {},
   "outputs": [],
   "source": [
    "# objective function components\n",
    "C_buy = lpSum(\n",
    "    [\n",
    "        N_vyr[v][yr] * vehicles.loc[vehicles[\"ID\"] == v, \"Cost ($)\"].values[0]\n",
    "        for v in vehicles_ids\n",
    "        for yr in years\n",
    "    ]\n",
    ")\n",
    "C_ins = lpSum(\n",
    "    [\n",
    "        N_vyr[v][yr] * vehicles.loc[vehicles[\"ID\"] == v, \"Cost ($)\"].values[0] * 0.1\n",
    "        for v in vehicles_ids\n",
    "        for yr in years\n",
    "    ]\n",
    ")\n",
    "C_mnt = lpSum(\n",
    "    [\n",
    "        N_vyr[v][yr] * vehicles.loc[vehicles[\"ID\"] == v, \"Cost ($)\"].values[0] * 0.05\n",
    "        for v in vehicles_ids\n",
    "        for yr in years\n",
    "    ]\n",
    ")\n",
    "C_fuel = lpSum(\n",
    "    [\n",
    "        N_vyr[v][yr]\n",
    "        * vehicles.loc[vehicles[\"ID\"] == v, \"Consumption (unit_fuel/km)\"].values[0]\n",
    "        * fuels.loc[\n",
    "            fuels[\"Fuel\"] == vehicles.loc[vehicles[\"ID\"] == v, \"Fuel\"].values[0],\n",
    "            \"Cost ($/unit_fuel)\",\n",
    "        ].values[0]\n",
    "        for v in vehicles_ids\n",
    "        for yr in years\n",
    "    ]\n",
    ")\n",
    "C_sell = lpSum(\n",
    "    [\n",
    "        N_vyr[v][yr] * vehicles.loc[vehicles[\"ID\"] == v, \"Cost ($)\"].values[0] * 0.2\n",
    "        for v in vehicles_ids\n",
    "        for yr in years\n",
    "    ]\n",
    ")\n"
   ]
  },
  {
   "cell_type": "code",
   "execution_count": 8,
   "metadata": {},
   "outputs": [],
   "source": [
    "# total cost\n",
    "\n",
    "C_total = C_buy + C_ins + C_mnt + C_fuel - C_sell\n",
    "\n",
    "model += C_total"
   ]
  },
  {
   "cell_type": "code",
   "execution_count": 9,
   "metadata": {},
   "outputs": [],
   "source": [
    "# Demand constraints: Each year's demand for each size bucket must be met\n",
    "for year in years:\n",
    "    for size in demand[\"Size\"].unique():\n",
    "        model += (\n",
    "            lpSum(\n",
    "                [\n",
    "                    N_vyr[v][year]\n",
    "                    * vehicles.loc[vehicles[\"ID\"] == v, \"Yearly range (km)\"].values[0]\n",
    "                    for v in vehicles_ids\n",
    "                    if vehicles.loc[vehicles[\"ID\"] == v, \"Size\"].values[0] == size\n",
    "                ]\n",
    "            )\n",
    "            >= demand[(demand[\"Year\"] == year) & (demand[\"Size\"] == size)][\n",
    "                \"Demand (km)\"\n",
    "            ].sum()\n",
    "        )\n",
    "\n",
    "# Carbon emissions constraints: Each year's emissions must not exceed the limit\n",
    "for year in years:\n",
    "    model += (\n",
    "        lpSum(\n",
    "            [\n",
    "                N_vyr[v][year]\n",
    "                * vehicles.loc[vehicles[\"ID\"] == v, \"Consumption (unit_fuel/km)\"].values[0]\n",
    "                * fuels.loc[\n",
    "                    fuels[\"Fuel\"]\n",
    "                    == vehicles.loc[vehicles[\"ID\"] == v, \"Fuel\"].values[0],\n",
    "                    \"Emissions (CO2/unit_fuel)\",\n",
    "                ].values[0]\n",
    "                for v in vehicles_ids\n",
    "            ]\n",
    "        )\n",
    "        <= carbon_emissions.loc[\n",
    "            carbon_emissions[\"Year\"] == year, \"Carbon emission CO2/kg\"\n",
    "        ].values[0]\n",
    "    )\n",
    "\n",
    "# Vehicles bought in year t are available for use up to year t+10\n",
    "for v in vehicles_ids:\n",
    "    for year in range(2023, 2029):\n",
    "        model += (lpSum([N_vyr[v][yr] for yr in range(year, year+11)]) - lpSum([S_vyr[v][yr] for yr in range(year+10, year+11)]) >= 0)\n",
    "\n",
    "# Ensure that we sell the vehicles exactly after 10 years of use\n",
    "for v in vehicles_ids:\n",
    "    for year in range(2033, 2039):\n",
    "        model += (S_vyr[v][year] == N_vyr[v][year-10])\n"
   ]
  },
  {
   "cell_type": "code",
   "execution_count": 10,
   "metadata": {},
   "outputs": [
    {
     "data": {
      "text/plain": [
       "1"
      ]
     },
     "execution_count": 10,
     "metadata": {},
     "output_type": "execute_result"
    }
   ],
   "source": [
    "model.solve()"
   ]
  },
  {
   "cell_type": "code",
   "execution_count": 18,
   "metadata": {},
   "outputs": [],
   "source": [
    "# Extract results and save to CSV\n",
    "results = []\n",
    "\n",
    "for v in vehicles_ids:\n",
    "    for yr in years:\n",
    "        if N_vyr[v][yr].varValue is not None:\n",
    "            if N_vyr[v][yr].varValue > 0:\n",
    "                results.append([yr, v, int(N_vyr[v][yr].varValue), 'Buy', None, None, 0])\n",
    "        if S_vyr[v][yr].varValue is not None:\n",
    "            if S_vyr[v][yr].varValue > 0:\n",
    "                results.append([yr, v, int(S_vyr[v][yr].varValue), 'Sell', None, None, 0])\n",
    "\n",
    "\n",
    "results_df = pd.DataFrame(\n",
    "    results,\n",
    "    columns=[\n",
    "        \"Year\",\n",
    "        \"ID\",\n",
    "        \"Num_Vehicles\",\n",
    "        \"Type\",\n",
    "        \"Fuel\",\n",
    "        \"Distance_bucket\",\n",
    "        \"Distance_per_vehicle(km)\",\n",
    "    ],\n",
    ")\n",
    "results_df.to_csv(\"solution.csv\", index=False)\n"
   ]
  },
  {
   "cell_type": "code",
   "execution_count": null,
   "metadata": {},
   "outputs": [],
   "source": []
  }
 ],
 "metadata": {
  "kernelspec": {
   "display_name": "shell",
   "language": "python",
   "name": "python3"
  },
  "language_info": {
   "codemirror_mode": {
    "name": "ipython",
    "version": 3
   },
   "file_extension": ".py",
   "mimetype": "text/x-python",
   "name": "python",
   "nbconvert_exporter": "python",
   "pygments_lexer": "ipython3",
   "version": "3.12.3"
  }
 },
 "nbformat": 4,
 "nbformat_minor": 2
}
